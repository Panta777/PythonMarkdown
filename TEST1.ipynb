{
 "cells": [
  {
   "cell_type": "raw",
   "id": "47e93c5b",
   "metadata": {},
   "source": [
    "print ('hello again friend')"
   ]
  },
  {
   "cell_type": "markdown",
   "id": "82430d30",
   "metadata": {},
   "source": [
    "#"
   ]
  },
  {
   "cell_type": "markdown",
   "id": "293f48cf",
   "metadata": {},
   "source": [
    "# hEAD"
   ]
  },
  {
   "cell_type": "code",
   "execution_count": 10,
   "id": "722f765e",
   "metadata": {},
   "outputs": [
    {
     "ename": "NameError",
     "evalue": "name 'test' is not defined",
     "output_type": "error",
     "traceback": [
      "\u001b[1;31m---------------------------------------------------------------------------\u001b[0m",
      "\u001b[1;31mNameError\u001b[0m                                 Traceback (most recent call last)",
      "\u001b[1;32m~\\AppData\\Local\\Temp\\ipykernel_12228\\3802766736.py\u001b[0m in \u001b[0;36m<module>\u001b[1;34m\u001b[0m\n\u001b[1;32m----> 1\u001b[1;33m \u001b[0mprint\u001b[0m \u001b[1;33m(\u001b[0m\u001b[0mtest\u001b[0m\u001b[1;33m)\u001b[0m\u001b[1;33m\u001b[0m\u001b[1;33m\u001b[0m\u001b[0m\n\u001b[0m",
      "\u001b[1;31mNameError\u001b[0m: name 'test' is not defined"
     ]
    }
   ],
   "source": [
    "print (tes"
   ]
  },
  {
   "cell_type": "code",
   "execution_count": 11,
   "id": "e99b5d63",
   "metadata": {},
   "outputs": [
    {
     "name": "stdout",
     "output_type": "stream",
     "text": [
      "test\n"
     ]
    }
   ],
   "source": [
    "print ('test')"
   ]
  },
  {
   "cell_type": "markdown",
   "id": "98806d07",
   "metadata": {},
   "source": [
    "*⌴Item 1\n",
    "⌴Indent\n",
    "-⌴Item 2\n",
    "⌴+⌴Item 3"
   ]
  },
  {
   "cell_type": "markdown",
   "id": "6bddf4a0",
   "metadata": {},
   "source": [
    "|Left |Center|Right|\n",
    "|:-----|:----:|----:|\n",
    "|1 |A |C |\n",
    "|2 |B |D |"
   ]
  },
  {
   "cell_type": "code",
   "execution_count": null,
   "id": "3532a045",
   "metadata": {},
   "outputs": [],
   "source": []
  }
 ],
 "metadata": {
  "kernelspec": {
   "display_name": "Python 3 (ipykernel)",
   "language": "python",
   "name": "python3"
  },
  "language_info": {
   "codemirror_mode": {
    "name": "ipython",
    "version": 3
   },
   "file_extension": ".py",
   "mimetype": "text/x-python",
   "name": "python",
   "nbconvert_exporter": "python",
   "pygments_lexer": "ipython3",
   "version": "3.9.13"
  }
 },
 "nbformat": 4,
 "nbformat_minor": 5
}
