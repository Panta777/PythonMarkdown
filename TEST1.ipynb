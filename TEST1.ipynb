{
 "cells": [
  {
   "cell_type": "markdown",
   "id": "860a98fe",
   "metadata": {},
   "source": [
    "CONTROL DE VERSIONES GIT \n",
    "========"
   ]
  },
  {
   "cell_type": "markdown",
   "id": "cf57e4d0",
   "metadata": {},
   "source": [
    "Los sistemas de control de Versiones  funcionan para manejar un control de las versiones que, por lo general, son de código fuente de diferentes aplicativos, pero no limitandose solo a este tipo. Adicional ayudan a los equipos a deserrollar en trabajos en los que se requiera la colaboración de varios miembros en un mismo proyecto al mismo tiempo."
   ]
  },
  {
   "cell_type": "markdown",
   "id": "c30e2ae8",
   "metadata": {},
   "source": [
    "PRINCIPALES COMANDOS\n",
    "--------"
   ]
  },
  {
   "cell_type": "markdown",
   "id": "ce9f4aeb",
   "metadata": {},
   "source": [
    "La herramienta de _GIT_ contiene varios comandos dependiendo del contexto del proyecto, cantidad de integrantes del equipo se pueden formar varias ramas así como diferentes versiones según las necesidades del proyecto. "
   ]
  },
  {
   "cell_type": "markdown",
   "id": "2f9d1abe",
   "metadata": {},
   "source": [
    "A continuación se listan los comandos más utilizados: "
   ]
  },
  {
   "cell_type": "markdown",
   "id": "0a61f4f2",
   "metadata": {},
   "source": [
    "**----**\n",
    "- git init \n",
    "- git add\n",
    "- git commit \n",
    "- git pull \n",
    "- git push \n",
    "- git checkout\n",
    "- git fetch\n",
    "- git merge\n",
    "- git reset hard\n",
    "- git branch \n",
    "\n",
    "**----**"
   ]
  },
  {
   "cell_type": "raw",
   "id": "bb7179d6",
   "metadata": {},
   "source": [
    "git init: Para iniciar un nuevo proyecto de GIT"
   ]
  },
  {
   "cell_type": "raw",
   "id": "30409aad",
   "metadata": {},
   "source": [
    "git add: para agregar componentes que serán confirmados"
   ]
  },
  {
   "cell_type": "raw",
   "id": "2885dcae",
   "metadata": {},
   "source": [
    "git commit: confirma los componentes que serán agregados al proyecto"
   ]
  },
  {
   "cell_type": "raw",
   "id": "ebe0c432",
   "metadata": {},
   "source": [
    "git pull: obtiene o jala los últimos cambios realizados por otros integrantes"
   ]
  },
  {
   "cell_type": "raw",
   "id": "1bacd14d",
   "metadata": {},
   "source": [
    "git push: envía o empuja los últimos cambios confirmados al proyecto."
   ]
  },
  {
   "cell_type": "raw",
   "id": "6502aeca",
   "metadata": {},
   "source": [
    "git checkout: tiene varios funcionalidades, tales como descartar cambios en un archivo, crear nuevas ramas o actualizar a la rama principal"
   ]
  },
  {
   "cell_type": "raw",
   "id": "02654d03",
   "metadata": {},
   "source": [
    "git fetch: actuliaza las ramas locales con las remotas"
   ]
  },
  {
   "cell_type": "raw",
   "id": "9fc9cffc",
   "metadata": {},
   "source": [
    "git merge: fusión de una más ramas , se usa más cuando se trabaja diferentes versiones y luego se unen."
   ]
  },
  {
   "cell_type": "raw",
   "id": "32e9c711",
   "metadata": {},
   "source": [
    "git reset hard: utiliza para regresar a un id de commit en específico"
   ]
  },
  {
   "cell_type": "raw",
   "id": "e0036059",
   "metadata": {},
   "source": [
    "git branch: para crear una nueva rama"
   ]
  },
  {
   "cell_type": "markdown",
   "id": "ae8fbf9d",
   "metadata": {},
   "source": [
    "Conclusiones\n",
    "--------\n"
   ]
  },
  {
   "cell_type": "markdown",
   "id": "3be4bc61",
   "metadata": {},
   "source": [
    "1. _GIT_ es un Sistema Controlador de Versiones, el cuál estandariza diferentes comandos según el aplicativo en dónde se utilice.\n",
    "2. Agiliza el progreso de diferentes proyectos ya que permite el trabajo simultaneo de diferentes integrantes. \n",
    "3. Ayuda a validar el responsable de exactamente que línea y el momento en que se modifico, así como todo el historial de las versiones del mismo.\n",
    "4. Ayuda a detectar *bugs* o problemas con cierto módulo de un proyecto, aislarlo y así corregirlo "
   ]
  },
  {
   "cell_type": "markdown",
   "id": "b522b72d",
   "metadata": {},
   "source": [
    "Bibliografía\n",
    "--------"
   ]
  },
  {
   "cell_type": "markdown",
   "id": "9bbe6bc5",
   "metadata": {},
   "source": [
    "https://missing.csail.mit.edu/2020/version-control/"
   ]
  },
  {
   "cell_type": "code",
   "execution_count": null,
   "id": "bbad2028",
   "metadata": {},
   "outputs": [],
   "source": []
  }
 ],
 "metadata": {
  "kernelspec": {
   "display_name": "Python 3 (ipykernel)",
   "language": "python",
   "name": "python3"
  },
  "language_info": {
   "codemirror_mode": {
    "name": "ipython",
    "version": 3
   },
   "file_extension": ".py",
   "mimetype": "text/x-python",
   "name": "python",
   "nbconvert_exporter": "python",
   "pygments_lexer": "ipython3",
   "version": "3.9.13"
  }
 },
 "nbformat": 4,
 "nbformat_minor": 5
}
