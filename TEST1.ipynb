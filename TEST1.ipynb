{
 "cells": [
  {
   "cell_type": "markdown",
   "id": "860a98fe",
   "metadata": {},
   "source": [
    "CONTROL DE VERSIONES GIT \n",
    "========"
   ]
  },
  {
   "cell_type": "markdown",
   "id": "cf57e4d0",
   "metadata": {},
   "source": [
    "Los sistemas de control de Versiones  funcionan para manejar un control de las versiones que, por lo general, son de código fuente de diferentes aplicativos, pero no limitandose solo a este tipo. Adicional ayudan a los equipos a deserrollar en trabajos en los que se requiera la colaboración de varios miembros en un mismo proyecto al mismo tiempo."
   ]
  },
  {
   "cell_type": "code",
   "execution_count": null,
   "id": "c1774ece",
   "metadata": {},
   "outputs": [],
   "source": []
  }
 ],
 "metadata": {
  "kernelspec": {
   "display_name": "Python 3 (ipykernel)",
   "language": "python",
   "name": "python3"
  },
  "language_info": {
   "codemirror_mode": {
    "name": "ipython",
    "version": 3
   },
   "file_extension": ".py",
   "mimetype": "text/x-python",
   "name": "python",
   "nbconvert_exporter": "python",
   "pygments_lexer": "ipython3",
   "version": "3.9.13"
  }
 },
 "nbformat": 4,
 "nbformat_minor": 5
}
